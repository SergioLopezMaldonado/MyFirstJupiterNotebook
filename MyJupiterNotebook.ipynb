{
 "cells": [
  {
   "cell_type": "markdown",
   "id": "6ee8548d-bc75-4702-81e4-c25aa50e2190",
   "metadata": {},
   "source": [
    "<H1>My Jupyter Notebook on IBM Watson Studio </H1>\n"
   ]
  },
  {
   "cell_type": "markdown",
   "id": "8d1d9d0b-a823-4163-9452-ddb41946b011",
   "metadata": {},
   "source": [
    "<strong>Sergio López Maldonado</strong><p> I am a college student</p>"
   ]
  },
  {
   "cell_type": "markdown",
   "id": "e86a50c5-eada-4d91-a30a-c31d882c1063",
   "metadata": {},
   "source": [
    "<p style=\"font-style: italic;\">I am interested in Data Science because it can improve my career</p>\n"
   ]
  },
  {
   "cell_type": "markdown",
   "id": "09f861a6-4807-48d9-a3f5-c7bcc093f678",
   "metadata": {},
   "source": [
    "<H3>My code returns the factorial of a number</H3>\n"
   ]
  },
  {
   "cell_type": "code",
   "execution_count": 2,
   "id": "85393a8e-5cfe-413e-a8ef-8674cf138a9c",
   "metadata": {},
   "outputs": [
    {
     "name": "stdout",
     "output_type": "stream",
     "text": [
      "24\n"
     ]
    }
   ],
   "source": [
    "def factorial(n):\n",
    "    if n == 1:\n",
    "        return 1\n",
    "    else:\n",
    "        return n*factorial(n-1)\n",
    "print(factorial(4))"
   ]
  },
  {
   "cell_type": "markdown",
   "id": "87a4911d-b43b-4d6f-a98e-ef27e9d49f5a",
   "metadata": {},
   "source": [
    "<img src=\"https://media.self.com/photos/57d8c2d150778cef321a5c63/master/w_1600%2Cc_limit/cute-kitty-rub-my-belly.jpg\"></p>\n",
    "<ol>\n",
    "  <li>One</li>\n",
    "  <li>Two</li>\n",
    "  <li>Three</li>\n",
    "</ol>\n",
    "\n",
    "<p><a href=\"https://www.ibm.com/mx-es\">IBM web site</a></p>"
   ]
  },
  {
   "cell_type": "code",
   "execution_count": null,
   "id": "1b9c4930-1d0a-4f20-bc3c-2772388fc8e5",
   "metadata": {},
   "outputs": [],
   "source": []
  }
 ],
 "metadata": {
  "kernelspec": {
   "display_name": "Python",
   "language": "python",
   "name": "conda-env-python-py"
  },
  "language_info": {
   "codemirror_mode": {
    "name": "ipython",
    "version": 3
   },
   "file_extension": ".py",
   "mimetype": "text/x-python",
   "name": "python",
   "nbconvert_exporter": "python",
   "pygments_lexer": "ipython3",
   "version": "3.7.12"
  }
 },
 "nbformat": 4,
 "nbformat_minor": 5
}
